{
 "cells": [
  {
   "cell_type": "markdown",
   "metadata": {},
   "source": [
    "# Graded Challenge 3"
   ]
  },
  {
   "cell_type": "markdown",
   "metadata": {},
   "source": [
    "***\n",
    "Nama  : Catherine Kezia Wijaya <br>\n",
    "Batch : RMT-037\n",
    "***"
   ]
  },
  {
   "cell_type": "markdown",
   "metadata": {},
   "source": [
    "## ii. Identifikasi Masalah"
   ]
  },
  {
   "cell_type": "markdown",
   "metadata": {},
   "source": [
    "### A. Case"
   ]
  },
  {
   "cell_type": "markdown",
   "metadata": {},
   "source": [
    "Seblak adalah makanan yang populer di kalangan masyarakat. Banyak orang membicarakannya terutama di media sosial, sehingga muncul asumsi bahwa minat terhadap produk seblak tinggi. Di tengah trend ini, skema dropship di platform e-commerce seperti Tokopedia menjadi salah satu bentuk bisnis tanpa perlu modal yang besar untuk produksi barang. \n",
    "\n",
    "Namun, sebelum memulai bisnis dropship seblak, penting untuk melakukan analisis data terhadap trend penjualan seblak di Tokopedia untuk memahami apakah produk ini benar-benar memiliki banyak minat di masyarakat seperti jumlah penjualan, rating dan harga produk.\n",
    "\n",
    "Sebagai lulusan Bootcamp Data Science Hacktiv8, kemampuan dalam analisis data sangat berguna dalam mengambil jalan skema bisnis ini. Meskipun tidak memiliki akses langsung ke data penjualan Tokopedia, kemampuan web scraping dapat digunakan untuk mengumpulkan data yang tersedia di platform. Dengan begitu, data yang didapat dari web scrapping bisa dianalisis untuk memahami tren dan potensi pasar seblak di Tokopedia."
   ]
  },
  {
   "cell_type": "markdown",
   "metadata": {},
   "source": [
    "### B. Objective"
   ]
  },
  {
   "cell_type": "markdown",
   "metadata": {},
   "source": [
    "- Mengumpulkan data penjualan seblak dari Tokopedia melalui web scraping, termasuk informasi nama produk, harga produk, jumlah penjualan, asal kota penjual dan rating..\n",
    "- Menganalisis faktor - faktor yang dapat mempengaruhi minat customer terhadap produk.\n",
    "- Memberikan insight bisnis berdasarkan analisis data untuk memutuskan apakah seblak merupakan produk yang tepat untuk dijual dengan skema dropship di Tokopedia."
   ]
  },
  {
   "cell_type": "markdown",
   "metadata": {},
   "source": [
    "## 2. Answer"
   ]
  },
  {
   "cell_type": "markdown",
   "metadata": {},
   "source": [
    "### A. Web Scrapping"
   ]
  },
  {
   "cell_type": "markdown",
   "metadata": {},
   "source": [
    "- Diambil halaman yang ditampilkan Tokopedia setelah memasukan keyword seblak ke dalam search engine\n",
    "- Data yang diambil adalah nama produk, harga produk, nama penjual, kota asal penjual, dan rating produk\n",
    "- Diambil 10 halaman pertama"
   ]
  },
  {
   "cell_type": "code",
   "execution_count": 2,
   "metadata": {},
   "outputs": [],
   "source": [
    "from selenium import webdriver\n",
    "from bs4 import BeautifulSoup\n",
    "import time"
   ]
  },
  {
   "cell_type": "code",
   "execution_count": 3,
   "metadata": {},
   "outputs": [],
   "source": [
    "nama_produk = []\n",
    "harga_produk = []\n",
    "list_penjual = []\n",
    "kota_toko = []\n",
    "banyak_terjual = []\n",
    "rating_produk = []\n",
    "\n",
    "driver = webdriver.Chrome() \n",
    "\n",
    "# Ambil 10 halaman data\n",
    "for i in range(1,11):\n",
    "# Inisialisasi WebDriver\n",
    "    \n",
    "    url = 'https://www.tokopedia.com/search?navsource=&page={}&q=seblak&srp_component_id=02.01.00.00&srp_page_id=&srp_page_title=&st='.format(i)\n",
    "    driver.get(url)\n",
    "\n",
    "    for i in range(19):\n",
    "        driver.execute_script(\"window.scrollBy(0, 250)\")\n",
    "        time.sleep(1)\n",
    "\n",
    "    driver.execute_script(\"window.scrollBy(50,0)\")\n",
    "    time.sleep(5)\n",
    "\n",
    "    # Ambil konten halaman setelah dirender oleh JavaScript\n",
    "    html = driver.page_source\n",
    "\n",
    "    # Parse dengan BeautifulSoup\n",
    "    soup = BeautifulSoup(html, 'html.parser')\n",
    "\n",
    "    # Menyimpan semua produk yang memiliki class `css-5wh65g` dalam satu list `list_produk`\n",
    "    list_produk = soup.find_all('div', {\"class\":\"css-5wh65g\"})\n",
    "\n",
    "    # Ekstrak elemen web yang menampilkan nama produk, harga produk, nama toko, kota toko,jumlah terjual, dan rating dengan memanggil nama class-nya\n",
    "    # try dan except untuk menghandling error jika data kosong sehingga bisa ditambahkan data None\n",
    "    for produk in list_produk:\n",
    "        try:\n",
    "            nama = produk.find('div', {\"class\":\"VKNwBTYQmj8+cxNrCQBD6g==\"}).get_text()\n",
    "            nama_produk.append(nama)\n",
    "        except:\n",
    "            nama_produk.append(None)\n",
    "        \n",
    "        try:\n",
    "            harga = produk.find('div', {\"class\":\"_8cR53N0JqdRc+mQCckhS0g==\"}).get_text() \n",
    "            harga_produk.append(harga)\n",
    "        except:\n",
    "            harga_produk.append(None)\n",
    "        \n",
    "        try:\n",
    "            penjual = produk.find('span', {\"class\":\"X6c-fdwuofj6zGvLKVUaNQ==\"}).get_text()  # Nama produk\n",
    "            list_penjual.append(penjual)\n",
    "        except:\n",
    "            list_penjual.append(None)\n",
    "        \n",
    "        try:\n",
    "            kota = produk.find('span', {\"class\":\"-9tiTbQgmU1vCjykywQqvA== flip\"}).get_text()  # Nama produk\n",
    "            kota_toko.append(kota)\n",
    "        except:\n",
    "            kota_toko.append(None)\n",
    "        \n",
    "        try:\n",
    "            terjual = produk.find('span', {\"class\":\"eLOomHl6J3IWAcdRU8M08A==\"}).get_text()  # Nama produk\n",
    "            banyak_terjual.append(terjual)\n",
    "        except:\n",
    "            banyak_terjual.append(None)\n",
    "\n",
    "        try:\n",
    "            rating = produk.find('span', {\"class\":\"nBBbPk9MrELbIUbobepKbQ==\"}).get_text()  # Nama produk\n",
    "            rating_produk.append(rating)\n",
    "        except:\n",
    "            rating_produk.append(None)"
   ]
  },
  {
   "cell_type": "code",
   "execution_count": 4,
   "metadata": {},
   "outputs": [],
   "source": [
    "# Menutup driver\n",
    "driver.quit()"
   ]
  },
  {
   "cell_type": "code",
   "execution_count": 2,
   "metadata": {},
   "outputs": [],
   "source": [
    "import pandas as pd"
   ]
  },
  {
   "cell_type": "code",
   "execution_count": 5,
   "metadata": {},
   "outputs": [],
   "source": [
    "\n",
    "# Membuat DataFrame dari semua kolom yang telah di scrapping\n",
    "data_list = list(zip(nama_produk, harga_produk, list_penjual, kota_toko, banyak_terjual, rating_produk))\n",
    "data = pd.DataFrame(data_list,columns=['nama_produk', 'harga_produk', 'penjual', 'kota_toko', 'banyak_terjual', 'rating_produk'])"
   ]
  },
  {
   "cell_type": "markdown",
   "metadata": {},
   "source": [
    "### B. Data Preparation"
   ]
  },
  {
   "cell_type": "code",
   "execution_count": 6,
   "metadata": {},
   "outputs": [
    {
     "data": {
      "text/html": [
       "<div>\n",
       "<style scoped>\n",
       "    .dataframe tbody tr th:only-of-type {\n",
       "        vertical-align: middle;\n",
       "    }\n",
       "\n",
       "    .dataframe tbody tr th {\n",
       "        vertical-align: top;\n",
       "    }\n",
       "\n",
       "    .dataframe thead th {\n",
       "        text-align: right;\n",
       "    }\n",
       "</style>\n",
       "<table border=\"1\" class=\"dataframe\">\n",
       "  <thead>\n",
       "    <tr style=\"text-align: right;\">\n",
       "      <th></th>\n",
       "      <th>nama_produk</th>\n",
       "      <th>harga_produk</th>\n",
       "      <th>penjual</th>\n",
       "      <th>kota_toko</th>\n",
       "      <th>banyak_terjual</th>\n",
       "      <th>rating_produk</th>\n",
       "    </tr>\n",
       "  </thead>\n",
       "  <tbody>\n",
       "    <tr>\n",
       "      <th>0</th>\n",
       "      <td>Geli Food Seblak Ceker Tanpa Tulang Super Peda...</td>\n",
       "      <td>Rp29.000</td>\n",
       "      <td>Lidigeli</td>\n",
       "      <td>Kab. Garut</td>\n",
       "      <td>100+ terjual</td>\n",
       "      <td>4.9</td>\n",
       "    </tr>\n",
       "    <tr>\n",
       "      <th>1</th>\n",
       "      <td>Seblak instan komplit / seblak instan murah</td>\n",
       "      <td>Rp5.000</td>\n",
       "      <td>ismileusa_id</td>\n",
       "      <td>Kab. Bandung</td>\n",
       "      <td>750+ terjual</td>\n",
       "      <td>4.8</td>\n",
       "    </tr>\n",
       "    <tr>\n",
       "      <th>2</th>\n",
       "      <td>KERUPUK SEBLAK RAFAEL PEDAS DAUN JERUK - 100 gram</td>\n",
       "      <td>Rp4.500</td>\n",
       "      <td>BociKakang</td>\n",
       "      <td>Jakarta Selatan</td>\n",
       "      <td>30+ terjual</td>\n",
       "      <td>4.8</td>\n",
       "    </tr>\n",
       "    <tr>\n",
       "      <th>3</th>\n",
       "      <td>KERUPUK SEBLAK MENTAH 1KG WARNA WARNI - Bawang...</td>\n",
       "      <td>Rp21.000</td>\n",
       "      <td>BociKakang</td>\n",
       "      <td>Jakarta Selatan</td>\n",
       "      <td>500+ terjual</td>\n",
       "      <td>5.0</td>\n",
       "    </tr>\n",
       "    <tr>\n",
       "      <th>4</th>\n",
       "      <td>Seblak Rafael, Seblak Coet Instan Halal</td>\n",
       "      <td>Rp25.000</td>\n",
       "      <td>Brother Meat Shop</td>\n",
       "      <td>Jakarta Selatan</td>\n",
       "      <td>750+ terjual</td>\n",
       "      <td>5.0</td>\n",
       "    </tr>\n",
       "    <tr>\n",
       "      <th>...</th>\n",
       "      <td>...</td>\n",
       "      <td>...</td>\n",
       "      <td>...</td>\n",
       "      <td>...</td>\n",
       "      <td>...</td>\n",
       "      <td>...</td>\n",
       "    </tr>\n",
       "    <tr>\n",
       "      <th>807</th>\n",
       "      <td>Kylafood Mix Pentol Kuah dan Seblak Original</td>\n",
       "      <td>Rp42.500</td>\n",
       "      <td>kylafood</td>\n",
       "      <td>Bandung</td>\n",
       "      <td>60+ terjual</td>\n",
       "      <td>4.9</td>\n",
       "    </tr>\n",
       "    <tr>\n",
       "      <th>808</th>\n",
       "      <td>Pasar Keripik Kerupuk Seblak Mawar Pedas size ...</td>\n",
       "      <td>Rp65.000</td>\n",
       "      <td>Pasar Keripik Bandung</td>\n",
       "      <td>Bandung</td>\n",
       "      <td>11 terjual</td>\n",
       "      <td>4.9</td>\n",
       "    </tr>\n",
       "    <tr>\n",
       "      <th>809</th>\n",
       "      <td>Kylafood Mix Fav Selebgram Seblak Original &amp; B...</td>\n",
       "      <td>Rp42.500</td>\n",
       "      <td>kylafood</td>\n",
       "      <td>Bandung</td>\n",
       "      <td>250+ terjual</td>\n",
       "      <td>4.8</td>\n",
       "    </tr>\n",
       "    <tr>\n",
       "      <th>810</th>\n",
       "      <td>Mie Seblak Geprek Sami Raos Khas Garut Seblak ...</td>\n",
       "      <td>Rp18.900</td>\n",
       "      <td>Foodstocks</td>\n",
       "      <td>Jakarta Selatan</td>\n",
       "      <td>100+ terjual</td>\n",
       "      <td>5.0</td>\n",
       "    </tr>\n",
       "    <tr>\n",
       "      <th>811</th>\n",
       "      <td>Kylafood Seblak Kwetiaw play</td>\n",
       "      <td>Rp19.975</td>\n",
       "      <td>kylafood</td>\n",
       "      <td>Bandung</td>\n",
       "      <td>500+ terjual</td>\n",
       "      <td>4.9</td>\n",
       "    </tr>\n",
       "  </tbody>\n",
       "</table>\n",
       "<p>812 rows × 6 columns</p>\n",
       "</div>"
      ],
      "text/plain": [
       "                                           nama_produk harga_produk  \\\n",
       "0    Geli Food Seblak Ceker Tanpa Tulang Super Peda...     Rp29.000   \n",
       "1          Seblak instan komplit / seblak instan murah      Rp5.000   \n",
       "2    KERUPUK SEBLAK RAFAEL PEDAS DAUN JERUK - 100 gram      Rp4.500   \n",
       "3    KERUPUK SEBLAK MENTAH 1KG WARNA WARNI - Bawang...     Rp21.000   \n",
       "4              Seblak Rafael, Seblak Coet Instan Halal     Rp25.000   \n",
       "..                                                 ...          ...   \n",
       "807       Kylafood Mix Pentol Kuah dan Seblak Original     Rp42.500   \n",
       "808  Pasar Keripik Kerupuk Seblak Mawar Pedas size ...     Rp65.000   \n",
       "809  Kylafood Mix Fav Selebgram Seblak Original & B...     Rp42.500   \n",
       "810  Mie Seblak Geprek Sami Raos Khas Garut Seblak ...     Rp18.900   \n",
       "811                       Kylafood Seblak Kwetiaw play     Rp19.975   \n",
       "\n",
       "                   penjual        kota_toko banyak_terjual rating_produk  \n",
       "0                 Lidigeli       Kab. Garut   100+ terjual           4.9  \n",
       "1             ismileusa_id     Kab. Bandung   750+ terjual           4.8  \n",
       "2               BociKakang  Jakarta Selatan    30+ terjual           4.8  \n",
       "3               BociKakang  Jakarta Selatan   500+ terjual           5.0  \n",
       "4        Brother Meat Shop  Jakarta Selatan   750+ terjual           5.0  \n",
       "..                     ...              ...            ...           ...  \n",
       "807               kylafood          Bandung    60+ terjual           4.9  \n",
       "808  Pasar Keripik Bandung          Bandung     11 terjual           4.9  \n",
       "809               kylafood          Bandung   250+ terjual           4.8  \n",
       "810             Foodstocks  Jakarta Selatan   100+ terjual           5.0  \n",
       "811               kylafood          Bandung   500+ terjual           4.9  \n",
       "\n",
       "[812 rows x 6 columns]"
      ]
     },
     "execution_count": 6,
     "metadata": {},
     "output_type": "execute_result"
    }
   ],
   "source": [
    "data"
   ]
  },
  {
   "cell_type": "code",
   "execution_count": 7,
   "metadata": {},
   "outputs": [
    {
     "name": "stdout",
     "output_type": "stream",
     "text": [
      "<class 'pandas.core.frame.DataFrame'>\n",
      "RangeIndex: 812 entries, 0 to 811\n",
      "Data columns (total 6 columns):\n",
      " #   Column          Non-Null Count  Dtype \n",
      "---  ------          --------------  ----- \n",
      " 0   nama_produk     812 non-null    object\n",
      " 1   harga_produk    812 non-null    object\n",
      " 2   penjual         812 non-null    object\n",
      " 3   kota_toko       812 non-null    object\n",
      " 4   banyak_terjual  777 non-null    object\n",
      " 5   rating_produk   736 non-null    object\n",
      "dtypes: object(6)\n",
      "memory usage: 38.2+ KB\n"
     ]
    }
   ],
   "source": [
    "data.info()"
   ]
  },
  {
   "cell_type": "markdown",
   "metadata": {},
   "source": [
    "Terlihat data mentah dari web scrapping masih kotor:\n",
    "- Karena ada beberapa toko baru, maka diambil beberapa data yang tidak memiliki banyak terjual dan rating produk. Baris data untuk toko - toko ini perlu dibuang.\n",
    "- Kolom harga produk, banyak terjual, dan rating produk masih memiliki tipe yang salah, yaitu String. Hal ini karena angka data masih terdapat aksesoris seperti tanda `Rp`, `.`, `+`, `rb`, dan `terjual`. Harga produk dan banyak terjual perlu diganti menjadi `Integer`, sedangkan rating produk menjadi `Float`.\n",
    "- Karena nama produk dan nama toko merupakan inputan dari user, maka ada potensi tidak rapi, perlu dilakukan penghilangan whitespace"
   ]
  },
  {
   "cell_type": "code",
   "execution_count": 3,
   "metadata": {},
   "outputs": [],
   "source": [
    "import numpy as np"
   ]
  },
  {
   "cell_type": "code",
   "execution_count": 8,
   "metadata": {},
   "outputs": [],
   "source": [
    "# Menghapus baris yang memiliki nilai None dan indeks diperbaiki\n",
    "data = data.replace(to_replace='None', value=np.nan).dropna()\n",
    "data.reset_index(drop=True, inplace=True)"
   ]
  },
  {
   "cell_type": "code",
   "execution_count": 9,
   "metadata": {},
   "outputs": [],
   "source": [
    "# Menghapus whitespace pada nama produk dan penjual\n",
    "data['nama_produk'] = data['nama_produk'].str.strip()\n",
    "data['penjual'] = data['penjual'].str.strip()"
   ]
  },
  {
   "cell_type": "code",
   "execution_count": 10,
   "metadata": {},
   "outputs": [],
   "source": [
    "# Menghapus Rp dan . pada kolom harga_produk.\n",
    "data['harga_produk'] = data['harga_produk'].str.replace('Rp', '')\n",
    "data['harga_produk'] = data['harga_produk'].str.replace('.', '')\n",
    "\n",
    "# mengganti tipe kolom harga produk menjadi integer\n",
    "data['harga_produk'] = data['harga_produk'].astype(int)"
   ]
  },
  {
   "cell_type": "code",
   "execution_count": 11,
   "metadata": {},
   "outputs": [],
   "source": [
    "# Menghapus tanda +, terjual, dan mengganti rb menjadi 000\n",
    "data['banyak_terjual'] = data['banyak_terjual'].str.replace('+', '')\n",
    "data['banyak_terjual'] = data['banyak_terjual'].str.replace(' terjual', '')\n",
    "data['banyak_terjual'] = data['banyak_terjual'].str.replace('rb', '000')\n",
    "\n",
    "# Mengganti tipe kolom banyak terjual menjadi integer\n",
    "data['banyak_terjual'] = data['banyak_terjual'].astype(int)"
   ]
  },
  {
   "cell_type": "code",
   "execution_count": 12,
   "metadata": {},
   "outputs": [],
   "source": [
    "# Mengganti tipe kolom rating produk menjadi float\n",
    "data['rating_produk'] = data['rating_produk'].astype(float)"
   ]
  },
  {
   "cell_type": "code",
   "execution_count": 13,
   "metadata": {},
   "outputs": [
    {
     "data": {
      "text/html": [
       "<div>\n",
       "<style scoped>\n",
       "    .dataframe tbody tr th:only-of-type {\n",
       "        vertical-align: middle;\n",
       "    }\n",
       "\n",
       "    .dataframe tbody tr th {\n",
       "        vertical-align: top;\n",
       "    }\n",
       "\n",
       "    .dataframe thead th {\n",
       "        text-align: right;\n",
       "    }\n",
       "</style>\n",
       "<table border=\"1\" class=\"dataframe\">\n",
       "  <thead>\n",
       "    <tr style=\"text-align: right;\">\n",
       "      <th></th>\n",
       "      <th>nama_produk</th>\n",
       "      <th>harga_produk</th>\n",
       "      <th>penjual</th>\n",
       "      <th>kota_toko</th>\n",
       "      <th>banyak_terjual</th>\n",
       "      <th>rating_produk</th>\n",
       "    </tr>\n",
       "  </thead>\n",
       "  <tbody>\n",
       "    <tr>\n",
       "      <th>0</th>\n",
       "      <td>Geli Food Seblak Ceker Tanpa Tulang Super Peda...</td>\n",
       "      <td>29000</td>\n",
       "      <td>Lidigeli</td>\n",
       "      <td>Kab. Garut</td>\n",
       "      <td>100</td>\n",
       "      <td>4.9</td>\n",
       "    </tr>\n",
       "    <tr>\n",
       "      <th>1</th>\n",
       "      <td>Seblak instan komplit / seblak instan murah</td>\n",
       "      <td>5000</td>\n",
       "      <td>ismileusa_id</td>\n",
       "      <td>Kab. Bandung</td>\n",
       "      <td>750</td>\n",
       "      <td>4.8</td>\n",
       "    </tr>\n",
       "    <tr>\n",
       "      <th>2</th>\n",
       "      <td>KERUPUK SEBLAK RAFAEL PEDAS DAUN JERUK - 100 gram</td>\n",
       "      <td>4500</td>\n",
       "      <td>BociKakang</td>\n",
       "      <td>Jakarta Selatan</td>\n",
       "      <td>30</td>\n",
       "      <td>4.8</td>\n",
       "    </tr>\n",
       "    <tr>\n",
       "      <th>3</th>\n",
       "      <td>KERUPUK SEBLAK MENTAH 1KG WARNA WARNI - Bawang...</td>\n",
       "      <td>21000</td>\n",
       "      <td>BociKakang</td>\n",
       "      <td>Jakarta Selatan</td>\n",
       "      <td>500</td>\n",
       "      <td>5.0</td>\n",
       "    </tr>\n",
       "    <tr>\n",
       "      <th>4</th>\n",
       "      <td>Seblak Rafael, Seblak Coet Instan Halal</td>\n",
       "      <td>25000</td>\n",
       "      <td>Brother Meat Shop</td>\n",
       "      <td>Jakarta Selatan</td>\n",
       "      <td>750</td>\n",
       "      <td>5.0</td>\n",
       "    </tr>\n",
       "    <tr>\n",
       "      <th>...</th>\n",
       "      <td>...</td>\n",
       "      <td>...</td>\n",
       "      <td>...</td>\n",
       "      <td>...</td>\n",
       "      <td>...</td>\n",
       "      <td>...</td>\n",
       "    </tr>\n",
       "    <tr>\n",
       "      <th>731</th>\n",
       "      <td>Kylafood Mix Pentol Kuah dan Seblak Original</td>\n",
       "      <td>42500</td>\n",
       "      <td>kylafood</td>\n",
       "      <td>Bandung</td>\n",
       "      <td>60</td>\n",
       "      <td>4.9</td>\n",
       "    </tr>\n",
       "    <tr>\n",
       "      <th>732</th>\n",
       "      <td>Pasar Keripik Kerupuk Seblak Mawar Pedas size ...</td>\n",
       "      <td>65000</td>\n",
       "      <td>Pasar Keripik Bandung</td>\n",
       "      <td>Bandung</td>\n",
       "      <td>11</td>\n",
       "      <td>4.9</td>\n",
       "    </tr>\n",
       "    <tr>\n",
       "      <th>733</th>\n",
       "      <td>Kylafood Mix Fav Selebgram Seblak Original &amp; B...</td>\n",
       "      <td>42500</td>\n",
       "      <td>kylafood</td>\n",
       "      <td>Bandung</td>\n",
       "      <td>250</td>\n",
       "      <td>4.8</td>\n",
       "    </tr>\n",
       "    <tr>\n",
       "      <th>734</th>\n",
       "      <td>Mie Seblak Geprek Sami Raos Khas Garut Seblak ...</td>\n",
       "      <td>18900</td>\n",
       "      <td>Foodstocks</td>\n",
       "      <td>Jakarta Selatan</td>\n",
       "      <td>100</td>\n",
       "      <td>5.0</td>\n",
       "    </tr>\n",
       "    <tr>\n",
       "      <th>735</th>\n",
       "      <td>Kylafood Seblak Kwetiaw play</td>\n",
       "      <td>19975</td>\n",
       "      <td>kylafood</td>\n",
       "      <td>Bandung</td>\n",
       "      <td>500</td>\n",
       "      <td>4.9</td>\n",
       "    </tr>\n",
       "  </tbody>\n",
       "</table>\n",
       "<p>736 rows × 6 columns</p>\n",
       "</div>"
      ],
      "text/plain": [
       "                                           nama_produk  harga_produk  \\\n",
       "0    Geli Food Seblak Ceker Tanpa Tulang Super Peda...         29000   \n",
       "1          Seblak instan komplit / seblak instan murah          5000   \n",
       "2    KERUPUK SEBLAK RAFAEL PEDAS DAUN JERUK - 100 gram          4500   \n",
       "3    KERUPUK SEBLAK MENTAH 1KG WARNA WARNI - Bawang...         21000   \n",
       "4              Seblak Rafael, Seblak Coet Instan Halal         25000   \n",
       "..                                                 ...           ...   \n",
       "731       Kylafood Mix Pentol Kuah dan Seblak Original         42500   \n",
       "732  Pasar Keripik Kerupuk Seblak Mawar Pedas size ...         65000   \n",
       "733  Kylafood Mix Fav Selebgram Seblak Original & B...         42500   \n",
       "734  Mie Seblak Geprek Sami Raos Khas Garut Seblak ...         18900   \n",
       "735                       Kylafood Seblak Kwetiaw play         19975   \n",
       "\n",
       "                   penjual        kota_toko  banyak_terjual  rating_produk  \n",
       "0                 Lidigeli       Kab. Garut             100            4.9  \n",
       "1             ismileusa_id     Kab. Bandung             750            4.8  \n",
       "2               BociKakang  Jakarta Selatan              30            4.8  \n",
       "3               BociKakang  Jakarta Selatan             500            5.0  \n",
       "4        Brother Meat Shop  Jakarta Selatan             750            5.0  \n",
       "..                     ...              ...             ...            ...  \n",
       "731               kylafood          Bandung              60            4.9  \n",
       "732  Pasar Keripik Bandung          Bandung              11            4.9  \n",
       "733               kylafood          Bandung             250            4.8  \n",
       "734             Foodstocks  Jakarta Selatan             100            5.0  \n",
       "735               kylafood          Bandung             500            4.9  \n",
       "\n",
       "[736 rows x 6 columns]"
      ]
     },
     "execution_count": 13,
     "metadata": {},
     "output_type": "execute_result"
    }
   ],
   "source": [
    "data"
   ]
  },
  {
   "cell_type": "code",
   "execution_count": 14,
   "metadata": {},
   "outputs": [
    {
     "name": "stdout",
     "output_type": "stream",
     "text": [
      "<class 'pandas.core.frame.DataFrame'>\n",
      "RangeIndex: 736 entries, 0 to 735\n",
      "Data columns (total 6 columns):\n",
      " #   Column          Non-Null Count  Dtype  \n",
      "---  ------          --------------  -----  \n",
      " 0   nama_produk     736 non-null    object \n",
      " 1   harga_produk    736 non-null    int32  \n",
      " 2   penjual         736 non-null    object \n",
      " 3   kota_toko       736 non-null    object \n",
      " 4   banyak_terjual  736 non-null    int32  \n",
      " 5   rating_produk   736 non-null    float64\n",
      "dtypes: float64(1), int32(2), object(3)\n",
      "memory usage: 28.9+ KB\n"
     ]
    }
   ],
   "source": [
    "data.info()"
   ]
  },
  {
   "cell_type": "markdown",
   "metadata": {},
   "source": [
    "- Baris dengan nilai None dihapus sehingga data berjumlah 736\n",
    "- Tipe data sudah benar untuk harga produk, banyak terjual, dan rating produk"
   ]
  },
  {
   "cell_type": "code",
   "execution_count": 15,
   "metadata": {},
   "outputs": [],
   "source": [
    "# Export data menjadi csv\n",
    "data.to_csv('data_gc3.csv', index=False)"
   ]
  },
  {
   "cell_type": "code",
   "execution_count": 5,
   "metadata": {},
   "outputs": [],
   "source": [
    "# Membaca csv yang telah diexport untuk mendapatkan DataFrame data\n",
    "data = pd.read_csv('catherine_kezia.csv')"
   ]
  },
  {
   "cell_type": "markdown",
   "metadata": {},
   "source": [
    "### C. Business Understanding/Problem Statement"
   ]
  },
  {
   "cell_type": "markdown",
   "metadata": {},
   "source": [
    "Untuk mengambil keputusan bisnis yang tepat, data perlu diberikan wawasan yang bermanfaat. Wawasan ini bisa didapat dengan mengikuti prinsip business development SMART (Specific, Measurable, Achievable, Relevant, Time-bound):\n",
    "- `Specific`: Mengidentifikasi trend penjualan produk seblak di Tokopedia, termasuk jumlah penjualan, harga produk, daerah penjualan, dan rating-nya.\n",
    "\n",
    "- `Measurable`: Mengumpulkan setidaknya 700 data produk seblak di Tokopedia, kemudian menganalisisnya untuk menemukan apakah produk telah dijual dengan jumlah yang banyak dan mendapatkan rating yang relatif positif. Produk dengan rating yang tinggi seperti 5.0 atau 4.9 dapat diukur untuk menentukan kualitas produk yang paling disukai customer.\n",
    "\n",
    "- `Achievable`: melakukan web scraping dengan tools pada Python yang sesuai seperti BeautifulSoup atau Selenium. Data yang didapat dianalisis menggunakan Pandas dan Scipy\n",
    "\n",
    "- `Relevant`: Fokus utama pada produk seblak karena sedangi trend di masyarakat. Hasil analisis akan berguna untuk memutuskan apakah seblak adalah produk yang sesuai untuk dropshipping.\n",
    "\n",
    "- `Time-bound`: Proses pengumpulan dan analisis data dilakukan dalam jangka waktu 1-2 minggu, dengan hasil berupa laporan mengenai trend penjualan seblak di Tokopedia dan rekomendasi bisnis.\n"
   ]
  },
  {
   "cell_type": "markdown",
   "metadata": {},
   "source": [
    "### D. Analysis"
   ]
  },
  {
   "cell_type": "markdown",
   "metadata": {},
   "source": [
    "Sebelum melakukan analisis perlu dijabarkan pertanyaan - pertanyaan relevan mengenai penjualan seblak:\n",
    "- `What`: Apakah seblak merupakan produk yang tepat dalam skema bisnis dropship?\n",
    "\n",
    "- `Why`: Mengapa analisis ini penting dilakukan sebelum memulai bisnis dropship?\n",
    "\n",
    "- `Who`: Siapa yang bisa menjadi target pasar produk ini?\n",
    "\n",
    "- `Where`: Dimana tempat ideal produk seblak dijual, dengan mempertimbangkan harga produksi?\n",
    "\n",
    "- `When`: Kapan data ini akan diambil dan dianalisis?\n",
    "\n",
    "- `How`: Bagaimana persepsi customer terhadap produk seblak di Tokopedia?"
   ]
  },
  {
   "cell_type": "markdown",
   "metadata": {},
   "source": [
    "#### 1. Analisis kolom harga produk, banyak terjual, dan rating produk"
   ]
  },
  {
   "cell_type": "markdown",
   "metadata": {},
   "source": [
    "- Ingin dianalasis persebaran dan distribusi data untuk kolom harga produk, banyak terjual, dan rating produk"
   ]
  },
  {
   "cell_type": "markdown",
   "metadata": {},
   "source": [
    "1.1 Analisis kolom harga produk"
   ]
  },
  {
   "cell_type": "code",
   "execution_count": 8,
   "metadata": {},
   "outputs": [
    {
     "name": "stdout",
     "output_type": "stream",
     "text": [
      "Rata-rata harga:  20551.088315217392\n",
      "Median harga:  14949.5\n",
      "Standar deviasi harga:  22548.20378327402\n",
      "Skewness harga:  4.57534673002601\n",
      "Kurtosis harga:  37.20080763212851\n"
     ]
    }
   ],
   "source": [
    "harga_avg = data['harga_produk'].mean()\n",
    "print('Rata-rata harga: ', harga_avg)\n",
    "\n",
    "harga_med = data['harga_produk'].median()\n",
    "print('Median harga: ', harga_med)\n",
    "\n",
    "harga_std = data['harga_produk'].std()\n",
    "print('Standar deviasi harga: ', harga_std)\n",
    "\n",
    "harga_skew = data['harga_produk'].skew()\n",
    "print('Skewness harga: ', harga_skew)\n",
    "\n",
    "harga_kurt = data['harga_produk'].kurtosis()\n",
    "print('Kurtosis harga: ', harga_kurt)"
   ]
  },
  {
   "cell_type": "markdown",
   "metadata": {},
   "source": [
    "- Rata - rata harganya lebih besar dari median. Ada beberapa harga dengan nilai ekstrim yang menarik rata - rata harga ke atas\n",
    "- Standar deviasi `22548.20` termasuk sangat tinggi, terdapat fluktuasi harga yang signifikan pada dataset\n",
    "- Skewness bernilai `4.58`, termasuk highly skewed. Distribusi harga sangat miring ke kanan, berarti sebagian besar data harga memiliki nilai yang rendah\n",
    "- Kurtosis bernilai `37.20`, distribusi memiliki puncak yang tajam dan berekor panjang. Menunjukkan harga barang memiliki banyak nilai ekstrim dalam dataset"
   ]
  },
  {
   "cell_type": "markdown",
   "metadata": {},
   "source": [
    "1.2 Banyak terjual"
   ]
  },
  {
   "cell_type": "code",
   "execution_count": 9,
   "metadata": {},
   "outputs": [
    {
     "name": "stdout",
     "output_type": "stream",
     "text": [
      "Rata-rata terjual:  440.6195652173913\n",
      "Median terjual:  85.0\n",
      "Standar deviasi terjual:  1217.753625807662\n",
      "Skewness terjual:  5.249530284371333\n",
      "Kurtosis terjual:  32.020500684866064\n"
     ]
    }
   ],
   "source": [
    "jumlah_avg = data['banyak_terjual'].mean()\n",
    "print('Rata-rata terjual: ', jumlah_avg)\n",
    "\n",
    "jumlah_med = data['banyak_terjual'].median()\n",
    "print('Median terjual: ', jumlah_med)\n",
    "\n",
    "jumlah_std = data['banyak_terjual'].std()\n",
    "print('Standar deviasi terjual: ', jumlah_std)\n",
    "\n",
    "jumlah_skew = data['banyak_terjual'].skew()\n",
    "print('Skewness terjual: ', jumlah_skew)\n",
    "\n",
    "jumlah_kurt = data['banyak_terjual'].kurtosis()\n",
    "print('Kurtosis terjual: ', jumlah_kurt)"
   ]
  },
  {
   "cell_type": "markdown",
   "metadata": {},
   "source": [
    "- Rata - rata jumlah terjual jauh lebih besar dari median. Ada beberapa nilai ekstrim yang menarik rata - rata jumlah terjual ke atas\n",
    "- Standar deviasi `1217.75` termasuk sangat tinggi, menunjukkan variasi yang cukup ekstrim dalam jumlah terjualnya barang\n",
    "- Skewness bernilai `5.24`, termasuk highly skewed. Distribusi jumlah terjual sangat miring ke kanan, berarti sebagian besar penjualan memiliki jumlah yang rendah\n",
    "- Kurtosis bernilai `32.02`, distribusi memiliki puncak yang tajam dan berekor panjang. Menunjukkan jumlah produk terjual memiliki banyak nilai ekstrim dalam dataset, sehingga distribusi data disimpulkan tidak normal"
   ]
  },
  {
   "cell_type": "markdown",
   "metadata": {},
   "source": [
    "1.3 Rating Produk"
   ]
  },
  {
   "cell_type": "code",
   "execution_count": 10,
   "metadata": {},
   "outputs": [
    {
     "name": "stdout",
     "output_type": "stream",
     "text": [
      "Rata-rata rating:  4.874592391304348\n",
      "Median rating:  4.9\n",
      "Standar deviasi rating:  0.1675549568382758\n",
      "Skewness rating:  -3.0991384541933744\n",
      "Kurtosis rating:  14.54690216284946\n"
     ]
    }
   ],
   "source": [
    "rating_avg = data['rating_produk'].mean()\n",
    "print('Rata-rata rating: ', rating_avg)\n",
    "\n",
    "rating_med = data['rating_produk'].median()\n",
    "print('Median rating: ', rating_med)\n",
    "\n",
    "rating_std = data['rating_produk'].std()\n",
    "print('Standar deviasi rating: ', rating_std)\n",
    "\n",
    "rating_skew = data['rating_produk'].skew()\n",
    "print('Skewness rating: ', rating_skew)\n",
    "\n",
    "rating_kurt = data['rating_produk'].kurtosis()\n",
    "print('Kurtosis rating: ', rating_kurt)"
   ]
  },
  {
   "cell_type": "markdown",
   "metadata": {},
   "source": [
    "- Mayoritas produk mendapatkan rating yang sangat tinggi, mendekati 5\n",
    "- Median mendekati rata-rata, menandakan distribusi yang cukup konsisten pada rating yang tinggi, yaitu sekitar 4.9\n",
    "- Standar deviasi sebesar `0.17`, menunjukkan variabilitas rating sangat rendah. Sebagian besar rating berada sangat dekat dengan rata-rata\n",
    "- Skewness bernilai `-3.09`, termasuk highly skewed. Distribusi rating sangat miring ke kiri, berarti sebagian besar penjualan memiliki nilai rating yang tinggi (mendekati 5)\n",
    "- Kurtosis bernilai `32.02`, distribusi memiliki puncak yang tajam dan berekor panjang. Rating berkumpul di sekitar nilai rata-rata (di puncak), tetapi ada beberapa nilai ekstrim yang lebih rendah."
   ]
  },
  {
   "cell_type": "markdown",
   "metadata": {},
   "source": [
    "#### 2. Berapa maksimum dan minimum profit yang bisa didapat dalam penjualan seblak di Tokopedia?"
   ]
  },
  {
   "cell_type": "markdown",
   "metadata": {},
   "source": [
    "Meskipun didapat datanya skewed akan dianggap datanya berdistribusi normal dengan confidence level 95%"
   ]
  },
  {
   "cell_type": "code",
   "execution_count": 6,
   "metadata": {},
   "outputs": [],
   "source": [
    "from scipy import stats"
   ]
  },
  {
   "cell_type": "code",
   "execution_count": 11,
   "metadata": {},
   "outputs": [
    {
     "name": "stdout",
     "output_type": "stream",
     "text": [
      "Lower Limit: 7071490.710081948\n",
      "Upper Limit: 11038932.486308647\n"
     ]
    },
    {
     "data": {
      "text/plain": [
       "9055211.598195298"
      ]
     },
     "execution_count": 11,
     "metadata": {},
     "output_type": "execute_result"
    }
   ],
   "source": [
    "avg_pendapatan = jumlah_avg * harga_avg\n",
    "std_pendapatan = jumlah_std * harga_std\n",
    "\n",
    "N = len(data)\n",
    "\n",
    "low, up = stats.norm.interval( \n",
    "    0.95,                 \n",
    "    loc=avg_pendapatan,\n",
    "    scale=std_pendapatan/np.sqrt(N)\n",
    "    )\n",
    "print('Lower Limit:',low)   # Lower limit\n",
    "print('Upper Limit:',up)\n",
    "avg_pendapatan"
   ]
  },
  {
   "cell_type": "markdown",
   "metadata": {},
   "source": [
    "Dengan confidence 95%, pendapatan bulanan dari penjualan seblak akan berada di antara Rp7,071,490 dan Rp11,038,932"
   ]
  },
  {
   "cell_type": "markdown",
   "metadata": {},
   "source": [
    "#### 3.  Apakah daerah penjualan baik itu di dalam atau di luar Jabodetabek bisa mempengaruhi harga produk?"
   ]
  },
  {
   "cell_type": "markdown",
   "metadata": {},
   "source": [
    "Hipotesis yang perlu dianalisi adalah:\n"
   ]
  },
  {
   "cell_type": "markdown",
   "metadata": {},
   "source": [
    "\n",
    "H0: harga barang di Jabodetabek = harga barang di luar Jabodetabek\n",
    "\n",
    "H1: harga barang di Jabodetabek != harga barang di luar Jabodetabek"
   ]
  },
  {
   "cell_type": "code",
   "execution_count": 13,
   "metadata": {},
   "outputs": [
    {
     "data": {
      "text/plain": [
       "array(['Kab. Garut', 'Kab. Bandung', 'Jakarta Selatan', 'Surabaya',\n",
       "       'Bandung', 'Cimahi', 'Kab. Bogor', 'Tasikmalaya', 'Jakarta Barat',\n",
       "       'Jakarta Timur', 'Jakarta Pusat', 'Tangerang Selatan',\n",
       "       'Kab. Klaten', 'Kab. Tangerang', 'Kab. Indramayu', 'Kediri',\n",
       "       'Banjarbaru', 'Kab. Bekasi', 'Kab. Magelang', 'Jakarta Utara',\n",
       "       'Surakarta', 'Kab. Sidoarjo', 'Kab. Majalengka', 'Depok',\n",
       "       'Kab. Tasikmalaya', 'Kab. Bantul', 'Kab. Banyuwangi', 'Tangerang',\n",
       "       'Kab. Bandung Barat', 'Medan', 'Kab. Tulungagung', 'Kab.Ciamis',\n",
       "       'Kab. Karawang', 'Kab. Badung', 'Kab. Cirebon', 'Kab. Sukabumi',\n",
       "       'Kab. Jember', 'Bekasi', 'Kab. Kebumen', 'Pekanbaru', 'Malang',\n",
       "       'Kab. Cianjur', 'Kab. Mojokerto', 'Semarang', 'Kab. Kediri',\n",
       "       'Palembang', 'Bandar Lampung', 'Makassar', 'Bogor', 'Banjarmasin',\n",
       "       'Kab. Sumedang', 'Kab. Boyolali', 'Kab. Purworejo', 'Sukabumi',\n",
       "       'Kab. Jombang', 'Kab. Sukoharjo', 'Kab. Purwakarta',\n",
       "       'Kab. Banyumas', 'Kab. Madiun', 'Kab. Deli Serdang', 'Denpasar',\n",
       "       'Kab. Kuningan', 'Yogyakarta', 'Kab. Serang'], dtype=object)"
      ]
     },
     "execution_count": 13,
     "metadata": {},
     "output_type": "execute_result"
    }
   ],
   "source": [
    "data['kota_toko'].unique()"
   ]
  },
  {
   "cell_type": "code",
   "execution_count": 15,
   "metadata": {},
   "outputs": [],
   "source": [
    "# Menyimpan semua nama ota dalam jabodetabek\n",
    "jabodetabek = ['Jakarta Selatan', 'Jakarta Barat', 'Jakarta Timur', 'Jakarta Pusat', 'Tangerang Selatan', 'Kab. Tangerang',\n",
    "               'Kab. Bekasi', 'Jakarta Utara', 'Tangerang', 'Depok', 'Bekasi', 'Kab. Cianjur', 'Bogor',\n",
    "               ]\n",
    "\n",
    "# Menyimpan semua data seblak di dalam dan di luar jabodetabek\n",
    "data_jabodetabek = data[data['kota_toko'].isin(jabodetabek)]\n",
    "data_luar_jabodetabek = data[~data['kota_toko'].isin(jabodetabek)]"
   ]
  },
  {
   "cell_type": "code",
   "execution_count": 16,
   "metadata": {},
   "outputs": [
    {
     "data": {
      "text/html": [
       "<div>\n",
       "<style scoped>\n",
       "    .dataframe tbody tr th:only-of-type {\n",
       "        vertical-align: middle;\n",
       "    }\n",
       "\n",
       "    .dataframe tbody tr th {\n",
       "        vertical-align: top;\n",
       "    }\n",
       "\n",
       "    .dataframe thead th {\n",
       "        text-align: right;\n",
       "    }\n",
       "</style>\n",
       "<table border=\"1\" class=\"dataframe\">\n",
       "  <thead>\n",
       "    <tr style=\"text-align: right;\">\n",
       "      <th></th>\n",
       "      <th>nama_produk</th>\n",
       "      <th>harga_produk</th>\n",
       "      <th>penjual</th>\n",
       "      <th>kota_toko</th>\n",
       "      <th>banyak_terjual</th>\n",
       "      <th>rating_produk</th>\n",
       "    </tr>\n",
       "  </thead>\n",
       "  <tbody>\n",
       "    <tr>\n",
       "      <th>2</th>\n",
       "      <td>KERUPUK SEBLAK RAFAEL PEDAS DAUN JERUK - 100 gram</td>\n",
       "      <td>4500</td>\n",
       "      <td>BociKakang</td>\n",
       "      <td>Jakarta Selatan</td>\n",
       "      <td>30</td>\n",
       "      <td>4.8</td>\n",
       "    </tr>\n",
       "    <tr>\n",
       "      <th>3</th>\n",
       "      <td>KERUPUK SEBLAK MENTAH 1KG WARNA WARNI - Bawang...</td>\n",
       "      <td>21000</td>\n",
       "      <td>BociKakang</td>\n",
       "      <td>Jakarta Selatan</td>\n",
       "      <td>500</td>\n",
       "      <td>5.0</td>\n",
       "    </tr>\n",
       "    <tr>\n",
       "      <th>4</th>\n",
       "      <td>Seblak Rafael, Seblak Coet Instan Halal</td>\n",
       "      <td>25000</td>\n",
       "      <td>Brother Meat Shop</td>\n",
       "      <td>Jakarta Selatan</td>\n",
       "      <td>750</td>\n",
       "      <td>5.0</td>\n",
       "    </tr>\n",
       "    <tr>\n",
       "      <th>10</th>\n",
       "      <td>KERUPUK MENTAH KERUPUK SEBLAK MENTAH 500 GR - ...</td>\n",
       "      <td>13500</td>\n",
       "      <td>BociKakang</td>\n",
       "      <td>Jakarta Selatan</td>\n",
       "      <td>250</td>\n",
       "      <td>4.9</td>\n",
       "    </tr>\n",
       "    <tr>\n",
       "      <th>12</th>\n",
       "      <td>KERUPUK SEBLAK PEDAS DAUN JERUK 100 GR</td>\n",
       "      <td>4500</td>\n",
       "      <td>BociKakang</td>\n",
       "      <td>Jakarta Selatan</td>\n",
       "      <td>750</td>\n",
       "      <td>4.8</td>\n",
       "    </tr>\n",
       "    <tr>\n",
       "      <th>...</th>\n",
       "      <td>...</td>\n",
       "      <td>...</td>\n",
       "      <td>...</td>\n",
       "      <td>...</td>\n",
       "      <td>...</td>\n",
       "      <td>...</td>\n",
       "    </tr>\n",
       "    <tr>\n",
       "      <th>723</th>\n",
       "      <td>Seblak Kencur 250gr/Kerupuk Seblak Rasa Kencur...</td>\n",
       "      <td>12500</td>\n",
       "      <td>Agen Snack Murah</td>\n",
       "      <td>Jakarta Barat</td>\n",
       "      <td>250</td>\n",
       "      <td>5.0</td>\n",
       "    </tr>\n",
       "    <tr>\n",
       "      <th>724</th>\n",
       "      <td>KERUPUK SEBLAK KERING 1KG BY OYUN KRIUKZZ</td>\n",
       "      <td>47400</td>\n",
       "      <td>oyun kriukzz</td>\n",
       "      <td>Jakarta Barat</td>\n",
       "      <td>30</td>\n",
       "      <td>5.0</td>\n",
       "    </tr>\n",
       "    <tr>\n",
       "      <th>726</th>\n",
       "      <td>kerupuk seblak</td>\n",
       "      <td>8000</td>\n",
       "      <td>food house</td>\n",
       "      <td>Jakarta Timur</td>\n",
       "      <td>30</td>\n",
       "      <td>5.0</td>\n",
       "    </tr>\n",
       "    <tr>\n",
       "      <th>730</th>\n",
       "      <td>Makanan Kering Kerupuk Seblak Pedas 100 gram</td>\n",
       "      <td>5000</td>\n",
       "      <td>BLIBET</td>\n",
       "      <td>Jakarta Barat</td>\n",
       "      <td>11</td>\n",
       "      <td>5.0</td>\n",
       "    </tr>\n",
       "    <tr>\n",
       "      <th>734</th>\n",
       "      <td>Mie Seblak Geprek Sami Raos Khas Garut Seblak ...</td>\n",
       "      <td>18900</td>\n",
       "      <td>Foodstocks</td>\n",
       "      <td>Jakarta Selatan</td>\n",
       "      <td>100</td>\n",
       "      <td>5.0</td>\n",
       "    </tr>\n",
       "  </tbody>\n",
       "</table>\n",
       "<p>240 rows × 6 columns</p>\n",
       "</div>"
      ],
      "text/plain": [
       "                                           nama_produk  harga_produk  \\\n",
       "2    KERUPUK SEBLAK RAFAEL PEDAS DAUN JERUK - 100 gram          4500   \n",
       "3    KERUPUK SEBLAK MENTAH 1KG WARNA WARNI - Bawang...         21000   \n",
       "4              Seblak Rafael, Seblak Coet Instan Halal         25000   \n",
       "10   KERUPUK MENTAH KERUPUK SEBLAK MENTAH 500 GR - ...         13500   \n",
       "12              KERUPUK SEBLAK PEDAS DAUN JERUK 100 GR          4500   \n",
       "..                                                 ...           ...   \n",
       "723  Seblak Kencur 250gr/Kerupuk Seblak Rasa Kencur...         12500   \n",
       "724          KERUPUK SEBLAK KERING 1KG BY OYUN KRIUKZZ         47400   \n",
       "726                                     kerupuk seblak          8000   \n",
       "730       Makanan Kering Kerupuk Seblak Pedas 100 gram          5000   \n",
       "734  Mie Seblak Geprek Sami Raos Khas Garut Seblak ...         18900   \n",
       "\n",
       "               penjual        kota_toko  banyak_terjual  rating_produk  \n",
       "2           BociKakang  Jakarta Selatan              30            4.8  \n",
       "3           BociKakang  Jakarta Selatan             500            5.0  \n",
       "4    Brother Meat Shop  Jakarta Selatan             750            5.0  \n",
       "10          BociKakang  Jakarta Selatan             250            4.9  \n",
       "12          BociKakang  Jakarta Selatan             750            4.8  \n",
       "..                 ...              ...             ...            ...  \n",
       "723   Agen Snack Murah    Jakarta Barat             250            5.0  \n",
       "724       oyun kriukzz    Jakarta Barat              30            5.0  \n",
       "726         food house    Jakarta Timur              30            5.0  \n",
       "730             BLIBET    Jakarta Barat              11            5.0  \n",
       "734         Foodstocks  Jakarta Selatan             100            5.0  \n",
       "\n",
       "[240 rows x 6 columns]"
      ]
     },
     "execution_count": 16,
     "metadata": {},
     "output_type": "execute_result"
    }
   ],
   "source": [
    "data_jabodetabek"
   ]
  },
  {
   "cell_type": "code",
   "execution_count": 17,
   "metadata": {},
   "outputs": [
    {
     "data": {
      "text/html": [
       "<div>\n",
       "<style scoped>\n",
       "    .dataframe tbody tr th:only-of-type {\n",
       "        vertical-align: middle;\n",
       "    }\n",
       "\n",
       "    .dataframe tbody tr th {\n",
       "        vertical-align: top;\n",
       "    }\n",
       "\n",
       "    .dataframe thead th {\n",
       "        text-align: right;\n",
       "    }\n",
       "</style>\n",
       "<table border=\"1\" class=\"dataframe\">\n",
       "  <thead>\n",
       "    <tr style=\"text-align: right;\">\n",
       "      <th></th>\n",
       "      <th>nama_produk</th>\n",
       "      <th>harga_produk</th>\n",
       "      <th>penjual</th>\n",
       "      <th>kota_toko</th>\n",
       "      <th>banyak_terjual</th>\n",
       "      <th>rating_produk</th>\n",
       "    </tr>\n",
       "  </thead>\n",
       "  <tbody>\n",
       "    <tr>\n",
       "      <th>0</th>\n",
       "      <td>Geli Food Seblak Ceker Tanpa Tulang Super Peda...</td>\n",
       "      <td>29000</td>\n",
       "      <td>Lidigeli</td>\n",
       "      <td>Kab. Garut</td>\n",
       "      <td>100</td>\n",
       "      <td>4.9</td>\n",
       "    </tr>\n",
       "    <tr>\n",
       "      <th>1</th>\n",
       "      <td>Seblak instan komplit / seblak instan murah</td>\n",
       "      <td>5000</td>\n",
       "      <td>ismileusa_id</td>\n",
       "      <td>Kab. Bandung</td>\n",
       "      <td>750</td>\n",
       "      <td>4.8</td>\n",
       "    </tr>\n",
       "    <tr>\n",
       "      <th>5</th>\n",
       "      <td>Kerupuk Mentah 250gr Seblak Mentah</td>\n",
       "      <td>5900</td>\n",
       "      <td>Pedas Gilaa</td>\n",
       "      <td>Surabaya</td>\n",
       "      <td>1000</td>\n",
       "      <td>5.0</td>\n",
       "    </tr>\n",
       "    <tr>\n",
       "      <th>6</th>\n",
       "      <td>Kylafood Seblak Rempah Authentik</td>\n",
       "      <td>10965</td>\n",
       "      <td>kylafood</td>\n",
       "      <td>Bandung</td>\n",
       "      <td>3000</td>\n",
       "      <td>4.9</td>\n",
       "    </tr>\n",
       "    <tr>\n",
       "      <th>7</th>\n",
       "      <td>seblak krupuk 5000 ,pedas dan gurih</td>\n",
       "      <td>5000</td>\n",
       "      <td>anugrah seblak</td>\n",
       "      <td>Kab. Bandung</td>\n",
       "      <td>1000</td>\n",
       "      <td>4.8</td>\n",
       "    </tr>\n",
       "    <tr>\n",
       "      <th>...</th>\n",
       "      <td>...</td>\n",
       "      <td>...</td>\n",
       "      <td>...</td>\n",
       "      <td>...</td>\n",
       "      <td>...</td>\n",
       "      <td>...</td>\n",
       "    </tr>\n",
       "    <tr>\n",
       "      <th>729</th>\n",
       "      <td>Kerupuk Seblak Oranye (200gr) - Kerupuk Kempla...</td>\n",
       "      <td>4000</td>\n",
       "      <td>Pusat Grosir Cuanki</td>\n",
       "      <td>Kab. Bandung</td>\n",
       "      <td>11</td>\n",
       "      <td>5.0</td>\n",
       "    </tr>\n",
       "    <tr>\n",
       "      <th>731</th>\n",
       "      <td>Kylafood Mix Pentol Kuah dan Seblak Original</td>\n",
       "      <td>42500</td>\n",
       "      <td>kylafood</td>\n",
       "      <td>Bandung</td>\n",
       "      <td>60</td>\n",
       "      <td>4.9</td>\n",
       "    </tr>\n",
       "    <tr>\n",
       "      <th>732</th>\n",
       "      <td>Pasar Keripik Kerupuk Seblak Mawar Pedas size ...</td>\n",
       "      <td>65000</td>\n",
       "      <td>Pasar Keripik Bandung</td>\n",
       "      <td>Bandung</td>\n",
       "      <td>11</td>\n",
       "      <td>4.9</td>\n",
       "    </tr>\n",
       "    <tr>\n",
       "      <th>733</th>\n",
       "      <td>Kylafood Mix Fav Selebgram Seblak Original &amp; B...</td>\n",
       "      <td>42500</td>\n",
       "      <td>kylafood</td>\n",
       "      <td>Bandung</td>\n",
       "      <td>250</td>\n",
       "      <td>4.8</td>\n",
       "    </tr>\n",
       "    <tr>\n",
       "      <th>735</th>\n",
       "      <td>Kylafood Seblak Kwetiaw play</td>\n",
       "      <td>19975</td>\n",
       "      <td>kylafood</td>\n",
       "      <td>Bandung</td>\n",
       "      <td>500</td>\n",
       "      <td>4.9</td>\n",
       "    </tr>\n",
       "  </tbody>\n",
       "</table>\n",
       "<p>496 rows × 6 columns</p>\n",
       "</div>"
      ],
      "text/plain": [
       "                                           nama_produk  harga_produk  \\\n",
       "0    Geli Food Seblak Ceker Tanpa Tulang Super Peda...         29000   \n",
       "1          Seblak instan komplit / seblak instan murah          5000   \n",
       "5                   Kerupuk Mentah 250gr Seblak Mentah          5900   \n",
       "6                     Kylafood Seblak Rempah Authentik         10965   \n",
       "7                  seblak krupuk 5000 ,pedas dan gurih          5000   \n",
       "..                                                 ...           ...   \n",
       "729  Kerupuk Seblak Oranye (200gr) - Kerupuk Kempla...          4000   \n",
       "731       Kylafood Mix Pentol Kuah dan Seblak Original         42500   \n",
       "732  Pasar Keripik Kerupuk Seblak Mawar Pedas size ...         65000   \n",
       "733  Kylafood Mix Fav Selebgram Seblak Original & B...         42500   \n",
       "735                       Kylafood Seblak Kwetiaw play         19975   \n",
       "\n",
       "                   penjual     kota_toko  banyak_terjual  rating_produk  \n",
       "0                 Lidigeli    Kab. Garut             100            4.9  \n",
       "1             ismileusa_id  Kab. Bandung             750            4.8  \n",
       "5              Pedas Gilaa      Surabaya            1000            5.0  \n",
       "6                 kylafood       Bandung            3000            4.9  \n",
       "7           anugrah seblak  Kab. Bandung            1000            4.8  \n",
       "..                     ...           ...             ...            ...  \n",
       "729    Pusat Grosir Cuanki  Kab. Bandung              11            5.0  \n",
       "731               kylafood       Bandung              60            4.9  \n",
       "732  Pasar Keripik Bandung       Bandung              11            4.9  \n",
       "733               kylafood       Bandung             250            4.8  \n",
       "735               kylafood       Bandung             500            4.9  \n",
       "\n",
       "[496 rows x 6 columns]"
      ]
     },
     "execution_count": 17,
     "metadata": {},
     "output_type": "execute_result"
    }
   ],
   "source": [
    "data_luar_jabodetabek"
   ]
  },
  {
   "cell_type": "markdown",
   "metadata": {},
   "source": [
    "Jenis analisa sama atau tidak sama yang tidak ada ketergantungan cocok menggunakan Two-Sample Independent Test"
   ]
  },
  {
   "cell_type": "code",
   "execution_count": 20,
   "metadata": {},
   "outputs": [
    {
     "name": "stdout",
     "output_type": "stream",
     "text": [
      "t-statistic: -1.5383693201308555\n",
      "p-value: 0.12438929482345605\n"
     ]
    }
   ],
   "source": [
    "t_stat, p_value = stats.ttest_ind(data_jabodetabek['harga_produk'], data_luar_jabodetabek['harga_produk'])\n",
    "\n",
    "print(f\"t-statistic: {t_stat}\")\n",
    "print(f\"p-value: {p_value}\")"
   ]
  },
  {
   "cell_type": "markdown",
   "metadata": {},
   "source": [
    "- Didapat nilai `t-statistic` -1.538, menunjukkan bahwa perbedaan harga antara seblak di jabodetabek dan di luar jabodetabek relatif kecil\n",
    "- Didapat nilai `p-value` 0.124, berarti lebih besar dari tingkat signifikan yang bernilai 0.05. Maka H0 diterima dan disimpulkan bahwa harga barang di Jabodetabek dan luar Jabodetabek sama.\n"
   ]
  },
  {
   "cell_type": "markdown",
   "metadata": {},
   "source": [
    "#### 4.  Apakah jumlah harga bisa mempengaruhi rating yang didapat untuk produk?"
   ]
  },
  {
   "cell_type": "markdown",
   "metadata": {},
   "source": [
    "Sama dengan proses menentukan upper bound dan lower bound, data akan dianggap sebagai data berdistribusi normal, sehingga menggunakan uji kolerasi Pearson"
   ]
  },
  {
   "cell_type": "markdown",
   "metadata": {},
   "source": [
    "Hipotesis yang perlu dianalisa adalah:\n",
    "\n",
    "H0: Tidak ada hubungan antara harga produk dengan rating produk\n",
    "\n",
    "H1: Ada hubungan antara harga produk dengan jumlah rating produk"
   ]
  },
  {
   "cell_type": "code",
   "execution_count": 25,
   "metadata": {},
   "outputs": [
    {
     "name": "stdout",
     "output_type": "stream",
     "text": [
      "Korelasi Pearson: 0.007372366485596757\n",
      "P-value Pearson: 0.8417386383461116\n"
     ]
    }
   ],
   "source": [
    "# Uji korelasi Pearson\n",
    "corr_pearson, p_value_pearson = stats.pearsonr(data['harga_produk'], data['rating_produk'])\n",
    "print(f\"Korelasi Pearson: {corr_pearson}\")\n",
    "print(f\"P-value Pearson: {p_value_pearson}\")"
   ]
  },
  {
   "cell_type": "markdown",
   "metadata": {},
   "source": [
    "- Korelasi Pearson bernilai `0.007`. Karena mendekati 0, menunjukkan bahwa harga produk dan rating produk tidak memiliki hubungan linear.  Customer tidak cenderung memberikan rating yang lebih tinggi atau lebih rendah berdasarkan harga produk.\n",
    "- Didapat p-value `0.84`jauh lebih besar daripada tingkat signifikansi yaitu `0.05`. Hipotesis 0 gagal ditolak, tidak ada hubungan yang signifikan antara harga dan rating produk"
   ]
  },
  {
   "cell_type": "markdown",
   "metadata": {},
   "source": [
    "### E. Kesimpulan"
   ]
  },
  {
   "cell_type": "markdown",
   "metadata": {},
   "source": [
    "Dari analisis data yang telah dilakukan, maka bisa menjawab pertanyaan - pertanyaan yang telah dijabarkan:\n",
    "\n",
    "- Seblak bisa menjadi produk yang baik untuk skema bisnis dropship. Bisa dilihat dari fleksibilitas harga barang dan lokasi penjualan. Hasil analisis menunjukkan bahwa harga barang tidak mempengaruhi rating kepuasaan customer. Dan juga tidak perlu lokasi penjualan yang spesifik karena harga barang di area baik itu dalam maupun luar Jabodetabek relatif sama, berarti bisa disimpulkan juga bahwa harga produksi juga relatif sama.\n",
    "\n",
    "- Analisa ini bisa membantu keputusan bisnis dengan memberikan informasi tentang minat customer pada produk, dan juga faktor apa saja yang bisa mempengaruhi minat tersebut. Bisa dilihat dari rating produk seblak di Tokopedia berada di sekitar `4.9`, nilai ini sangat tinggi maka bisa disimpulkan masyarakat menyukai jenis produk ini. Juga bisa membantu dalam menunjukkan perkiraan profit yang bisa didapat, hasil analisis menyimpulkan bahwa bisa mendapat sekitar `Rp7,071,490` sampai `Rp11,038,932`.\n",
    "\n",
    "- Dilihat dari hasil analisa hubungan rating dengan harga yang menunjukkan tidak ada hubungan linear, dan juga harga produk dengan lokasi yang menunjukkan tidak ada perbedaan signifikan, maka produk ini bisa untuk customer dengan kondisi ekonomi apapun dan juga di lokasi mana saja.\n",
    "\n",
    "- Dengan mempertimbangkan harga produksi, didapat bahwa harga barang tidak jauh berbeda, seblak bisa dijual di dalam maupun di luar wilayah jabodetabek\n",
    "\n",
    "- Hasil analisa berikut dianggap sebagai informasi penjualan produk per-bulan, dan bisa mendapat sebanyak 700 data yang layak untuk dianalisis. Maka cocok untuk mengambil dan menganalisa data per-bulan untuk mendapat data yang cukup\n",
    "\n",
    "- Dilihat dengan rating yang berkisar tinggi, profit yang bisa didapat dari jumlah produk yang terjual cukup tinggi maka produk seblak bisa dianggap memiliki persepsi yang baik diantara customer Tokopedia."
   ]
  },
  {
   "cell_type": "markdown",
   "metadata": {},
   "source": [
    "Keputusan akhir dari analisa adalah:\n",
    "\n",
    "Produk seblak layak untuk dijual pada skema bisnis dropship karena memiliki persepsi yang baik dari antara customer dan juga memiliki fleksibilitas yang tinggi dalam melakukan penjualan"
   ]
  }
 ],
 "metadata": {
  "kernelspec": {
   "display_name": "base",
   "language": "python",
   "name": "python3"
  },
  "language_info": {
   "codemirror_mode": {
    "name": "ipython",
    "version": 3
   },
   "file_extension": ".py",
   "mimetype": "text/x-python",
   "name": "python",
   "nbconvert_exporter": "python",
   "pygments_lexer": "ipython3",
   "version": "3.12.4"
  }
 },
 "nbformat": 4,
 "nbformat_minor": 2
}
